{
 "cells": [
  {
   "cell_type": "code",
   "execution_count": 2,
   "metadata": {},
   "outputs": [
    {
     "name": "stdout",
     "output_type": "stream",
     "text": [
      "Number of outliers removed for 'Customer Lifetime Value' using IQR method: 817\n",
      "Size of filtered DataFrame for 'Customer Lifetime Value' using IQR method: 8317\n",
      "Number of outliers removed for 'Monthly Premium Auto' using IQR method: 301\n",
      "Size of filtered DataFrame for 'Monthly Premium Auto' using IQR method: 8016\n",
      "Number of outliers removed for 'Total Claim Amount' using IQR method: 227\n",
      "Size of filtered DataFrame for 'Total Claim Amount' using IQR method: 7789\n"
     ]
    }
   ],
   "source": [
    "import pandas as pd\n",
    "from sklearn.preprocessing import OneHotEncoder, LabelEncoder\n",
    "\n",
    "\n",
    "def load_data(file_path):\n",
    "    \"\"\"Loads the dataset from the specified file path.\"\"\"\n",
    "    return pd.read_csv(file_path)\n",
    "\n",
    "\n",
    "def encode_columns(df, categorical_columns, label_columns):\n",
    "    \"\"\"Encodes categorical and label columns in the DataFrame.\"\"\"\n",
    "    # One-hot encoding categorical columns\n",
    "    encoder = OneHotEncoder(sparse_output=False, drop=None)\n",
    "\n",
    "    for column in categorical_columns:\n",
    "        one_hot_encoded = encoder.fit_transform(df[[column]])\n",
    "        one_hot_df = pd.DataFrame(one_hot_encoded, columns=encoder.get_feature_names_out([column]))\n",
    "        df = pd.concat([df, one_hot_df], axis=1)\n",
    "        df = df.drop([column], axis=1)\n",
    "\n",
    "    # Label encoding label columns\n",
    "    label_encoders = {}\n",
    "\n",
    "    for col in label_columns:\n",
    "        label_encoders[col] = LabelEncoder()\n",
    "        df[col] = label_encoders[col].fit_transform(df[col])\n",
    "\n",
    "    return df\n",
    "\n",
    "\n",
    "def remove_outliers_iqr(df, column_name, threshold=1.5):\n",
    "    \"\"\"Removes outliers from the specified column using the IQR method.\"\"\"\n",
    "    # Calculate quartiles for the specified column\n",
    "    q25 = df[column_name].quantile(0.25)\n",
    "    q75 = df[column_name].quantile(0.75)\n",
    "    iqr = q75 - q25\n",
    "\n",
    "    # Calculate the lower and upper bounds for outliers using the IQR method\n",
    "    lower_bound = q25 - threshold * iqr\n",
    "    upper_bound = q75 + threshold * iqr\n",
    "\n",
    "    # Filter the DataFrame to remove rows with values outside the lower and upper bounds\n",
    "    df_filtered = df[(df[column_name] >= lower_bound) & (df[column_name] <= upper_bound)]\n",
    "\n",
    "    # Print the number of outliers removed and the size of the filtered DataFrame\n",
    "    outliers_count = len(df) - len(df_filtered)\n",
    "    print(f\"Number of outliers removed for '{column_name}' using IQR method: {outliers_count}\")\n",
    "    print(f\"Size of filtered DataFrame for '{column_name}' using IQR method: {len(df_filtered)}\")\n",
    "\n",
    "    return df_filtered\n",
    "\n",
    "\n",
    "def save_data(df, file_path):\n",
    "    \"\"\"Saves the DataFrame to a CSV file.\"\"\"\n",
    "    df.to_csv(file_path, index=True)\n",
    "\n",
    "\n",
    "# Main execution\n",
    "if __name__ == \"__main__\":\n",
    "    # Load data\n",
    "    file_path = r\"C:\\Users\\cease\\Documents\\Datasets\\End to End Projects\\Customer lifetime Value Data.csv\"\n",
    "    df = load_data(file_path)\n",
    "\n",
    "    # Define columns for encoding and outlier removal\n",
    "    categorical_columns = ['State', 'Employment Status', 'Location', 'Marital Status', 'Policy Type', 'Sales Channel', \n",
    "                          'Vehicle Class']\n",
    "    label_columns = ['Response', 'Coverage', 'Education', 'Gender', 'Policy', 'Renew Offer Type', 'Vehicle Size']\n",
    "    outlier_cols = ['Customer Lifetime Value', 'Monthly Premium Auto', 'Total Claim Amount']\n",
    "\n",
    "    # Encode columns\n",
    "    df_encoded = encode_columns(df.copy(), categorical_columns, label_columns)\n",
    "\n",
    "    # Remove outliers\n",
    "    for col in outlier_cols:\n",
    "        df_encoded = remove_outliers_iqr(df_encoded, col)\n",
    "\n",
    "    # Save processed data\n",
    "    save_data(df_encoded, 'Insurance Customer Lifetime Value.csv')"
   ]
  },
  {
   "cell_type": "code",
   "execution_count": 4,
   "metadata": {},
   "outputs": [
    {
     "name": "stdout",
     "output_type": "stream",
     "text": [
      "Index(['Response', 'Coverage', 'Education', 'Gender', 'Income',\n",
      "       'Monthly Premium Auto', 'Months Since Last Claim',\n",
      "       'Months Since Policy Inception', 'Number of Open Complaints',\n",
      "       'Number of Policies', 'Policy', 'Renew Offer Type',\n",
      "       'Total Claim Amount', 'Vehicle Size', 'Customer Lifetime Value',\n",
      "       'State_Arizona', 'State_California', 'State_Nevada', 'State_Oregon',\n",
      "       'State_Washington', 'Employment Status_Disabled',\n",
      "       'Employment Status_Employed', 'Employment Status_Medical Leave',\n",
      "       'Employment Status_Retired', 'Employment Status_Unemployed',\n",
      "       'Location_Rural', 'Location_Suburban', 'Location_Urban',\n",
      "       'Marital Status_Divorced', 'Marital Status_Married',\n",
      "       'Marital Status_Single', 'Policy Type_Corporate Auto',\n",
      "       'Policy Type_Personal Auto', 'Policy Type_Special Auto',\n",
      "       'Sales Channel_Agent', 'Sales Channel_Branch',\n",
      "       'Sales Channel_Call Center', 'Sales Channel_Web',\n",
      "       'Vehicle Class_Four-Door Car', 'Vehicle Class_Luxury Car',\n",
      "       'Vehicle Class_Luxury SUV', 'Vehicle Class_SUV',\n",
      "       'Vehicle Class_Sports Car', 'Vehicle Class_Two-Door Car'],\n",
      "      dtype='object')\n"
     ]
    }
   ],
   "source": [
    "print(df_encoded.columns)"
   ]
  },
  {
   "cell_type": "code",
   "execution_count": null,
   "metadata": {},
   "outputs": [],
   "source": []
  }
 ],
 "metadata": {
  "kernelspec": {
   "display_name": "Python 3",
   "language": "python",
   "name": "python3"
  },
  "language_info": {
   "codemirror_mode": {
    "name": "ipython",
    "version": 3
   },
   "file_extension": ".py",
   "mimetype": "text/x-python",
   "name": "python",
   "nbconvert_exporter": "python",
   "pygments_lexer": "ipython3",
   "version": "3.11.7"
  }
 },
 "nbformat": 4,
 "nbformat_minor": 2
}
